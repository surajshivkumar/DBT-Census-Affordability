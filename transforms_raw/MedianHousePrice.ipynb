{
 "cells": [
  {
   "cell_type": "code",
   "execution_count": 1,
   "id": "20c4e8a9-40a2-42ec-a3fe-f6857e8777c7",
   "metadata": {},
   "outputs": [],
   "source": [
    "import pandas as pd"
   ]
  },
  {
   "cell_type": "code",
   "execution_count": null,
   "id": "f02df3f3-6354-40e3-9147-5705fa1f66e4",
   "metadata": {},
   "outputs": [],
   "source": [
    "Metro\n",
    "Atlanta-Sandy Springs-Alpharetta              5\n",
    "Austin-Round Rock-Georgetown                  5\n",
    "Baltimore-Columbia-Towson                     5\n",
    "Charlotte-Concord-Gastonia                    5\n",
    "Dallas-Fort Worth-Arlington                   5\n",
    "Denver-Aurora-Lakewood                        5\n",
    "Houston-The Woodlands-Sugar Land              5\n",
    "Jacksonville                                  5\n",
    "Miami-Fort Lauderdale-Pompano Beach           5\n",
    "Minneapolis-St. Paul-Bloomington              5\n",
    "Nashville-Davidson--Murfreesboro--Franklin    5\n",
    "Orlando-Kissimmee-Sanford                     5\n",
    "Phoenix-Mesa-Chandler                         5\n",
    "Portland-Vancouver-Hillsboro                  5\n",
    "Raleigh-Cary                                  5\n",
    "San Antonio-New Braunfels                     5\n",
    "Seattle-Tacoma-Bellevue                       5\n",
    "St. Louis                                     5\n",
    "Tampa-St. Petersburg-Clearwater               5"
   ]
  },
  {
   "cell_type": "code",
   "execution_count": 25,
   "id": "b532b59d-4687-49df-a5d2-0b8db15c267c",
   "metadata": {},
   "outputs": [
    {
     "name": "stdout",
     "output_type": "stream",
     "text": [
      "                  Metropolitan Area   2021   2022   2023  2023.III  2023.IV  \\\n",
      "0  Atlanta-Sandy Springs-Alpharetta  317.2  365.1  370.0     379.2    366.9   \n",
      "1      Austin-Round Rock-Georgetown  488.6  555.4  481.2     485.7    466.4   \n",
      "2         Baltimore-Columbia-Towson  358.1  378.2  388.6     406.3    383.9   \n",
      "3        Charlotte-Concord-Gastonia  354.1  397.7  398.0     406.9    395.1   \n",
      "4       Dallas-Fort Worth-Arlington  336.7  385.5  381.9     385.7    376.2   \n",
      "\n",
      "   2024.I 2024.II r  2024.III p Q3-Q3 %Chya  \n",
      "0   369.2     387.8       382.9        1.0%  \n",
      "1   466.7     496.5       481.8       -0.8%  \n",
      "2   385.0     428.6       426.6        5.0%  \n",
      "3   398.3     423.7       421.8        3.7%  \n",
      "4   377.7     391.3       384.1       -0.4%  \n"
     ]
    }
   ],
   "source": [
    "import pandas as pd\n",
    "from io import StringIO\n",
    "\n",
    "# Raw data as a string\n",
    "raw_data = \"\"\"\n",
    "Metropolitan Area,2021,2022,2023,2023.III,2023.IV,2024.I,2024.II r,2024.III p,Q3-Q3 %Chya\n",
    "Atlanta-Sandy Springs-Alpharetta,317.2,365.1,370.0,379.2,366.9,369.2,387.8,382.9,1.0%\n",
    "Austin-Round Rock-Georgetown,488.6,555.4,481.2,485.7,466.4,466.7,496.5,481.8,-0.8%\n",
    "Baltimore-Columbia-Towson,358.1,378.2,388.6,406.3,383.9,385.0,428.6,426.6,5.0%\n",
    "Charlotte-Concord-Gastonia,354.1,397.7,398.0,406.9,395.1,398.3,423.7,421.8,3.7%\n",
    "Dallas-Fort Worth-Arlington,336.7,385.5,381.9,385.7,376.2,377.7,391.3,384.1,-0.4%\n",
    "Denver-Aurora-Lakewood,661.0,673.0,652.3,651.0,669.9,654.6,-2.7%\n",
    "Houston-The Woodlands-Sugar Land,340.3,345.6,336.6,334.1,351.6,348.2,0.8%\n",
    "Jacksonville,325.0,386.5,389.4,390.0,392.7,390.0,408.0,401.4,2.9%\n",
    "Miami-Fort Lauderdale-Pompano Beach,593.0,602.5,600.0,625.0,646.0,630.0,4.6%\n",
    "Minneapolis-St. Paul-Bloomington,379.9,387.9,374.0,373.5,398.3,393.4,1.4%\n",
    "Nashville-Davidson--Murfreesboro--Franklin,349.5,403.7,401.5,413.6,405.3,404.3,421.0,421.5,1.9%\n",
    "Orlando-Kissimmee-Sanford,434.0,436.5,442.0,435.0,450.0,442.5,1.4%\n",
    "Phoenix-Mesa-Chandler,459.6,467.2,466.5,470.5,480.4,469.5,0.5%\n",
    "Portland-Vancouver-Hillsboro,584.8,593.4,579.4,574.0,608.5,609.0,2.6%\n",
    "Raleigh-Cary,459.9,478.6,461.2,439.8,484.9,472.3,-1.3%\n",
    "San Antonio-New Braunfels,326.8,332.1,315.7,305.8,321.8,321.1,-3.3%\n",
    "Seattle-Tacoma-Bellevue,735.0,744.3,732.2,755.3,829.6,802.3,7.8%\n",
    "St. Louis,254.4,268.6,243.7,241.1,279.9,280.3,4.4%\n",
    "Tampa-St. Petersburg-Clearwater,405.0,415.0,410.0,405.2,420.0,410.0,-1.2%\n",
    "\"\"\"\n",
    "\n",
    "\n",
    "# Use StringIO to simulate a file-like object\n",
    "data = StringIO(raw_data)\n",
    "\n",
    "# Read the data into a pandas DataFrame\n",
    "df = pd.read_csv(data, on_bad_lines='skip')\n",
    "\n",
    "# Display the DataFrame\n",
    "print(df.head())\n"
   ]
  },
  {
   "cell_type": "code",
   "execution_count": null,
   "id": "14b3c56b-9339-4b97-b07a-842f33bc8a79",
   "metadata": {},
   "outputs": [],
   "source": []
  },
  {
   "cell_type": "code",
   "execution_count": 26,
   "id": "03fbb6c4-cc14-48f6-8304-1901bd5127f1",
   "metadata": {},
   "outputs": [],
   "source": [
    "df = df[['Metropolitan Area', '2021', '2022', '2023']]\n",
    "df.columns = ['Metro','2021','2022','2023']\n",
    "df.to_csv('median_house_price.csv',index=False)"
   ]
  },
  {
   "cell_type": "code",
   "execution_count": 27,
   "id": "a16a46d3-3d1e-4909-b2e8-c4cbdfb53012",
   "metadata": {},
   "outputs": [
    {
     "name": "stdout",
     "output_type": "stream",
     "text": [
      "<class 'pandas.core.frame.DataFrame'>\n",
      "RangeIndex: 19 entries, 0 to 18\n",
      "Data columns (total 4 columns):\n",
      " #   Column  Non-Null Count  Dtype  \n",
      "---  ------  --------------  -----  \n",
      " 0   Metro   19 non-null     object \n",
      " 1   2021    19 non-null     float64\n",
      " 2   2022    19 non-null     float64\n",
      " 3   2023    19 non-null     float64\n",
      "dtypes: float64(3), object(1)\n",
      "memory usage: 740.0+ bytes\n"
     ]
    }
   ],
   "source": [
    "df.info()"
   ]
  },
  {
   "cell_type": "code",
   "execution_count": null,
   "id": "8c4fbd36-03cf-4e4f-8330-e504d5d9cc61",
   "metadata": {},
   "outputs": [],
   "source": []
  },
  {
   "cell_type": "code",
   "execution_count": null,
   "id": "b32ebac4-9e81-4650-81ff-54e24299ac08",
   "metadata": {},
   "outputs": [],
   "source": []
  }
 ],
 "metadata": {
  "kernelspec": {
   "display_name": "Python 3 (ipykernel)",
   "language": "python",
   "name": "python3"
  },
  "language_info": {
   "codemirror_mode": {
    "name": "ipython",
    "version": 3
   },
   "file_extension": ".py",
   "mimetype": "text/x-python",
   "name": "python",
   "nbconvert_exporter": "python",
   "pygments_lexer": "ipython3",
   "version": "3.12.6"
  }
 },
 "nbformat": 4,
 "nbformat_minor": 5
}
