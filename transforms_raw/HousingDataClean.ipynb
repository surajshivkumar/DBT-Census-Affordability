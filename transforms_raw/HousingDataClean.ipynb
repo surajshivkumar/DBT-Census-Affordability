{
 "cells": [
  {
   "cell_type": "code",
   "execution_count": 43,
   "id": "1c86ee92-fabd-4c8c-8d5c-215933320f1a",
   "metadata": {},
   "outputs": [],
   "source": [
    "import pandas as pd\n",
    "import os\n",
    "import matplotlib.pyplot as plt\n",
    "import seaborn as sns\n",
    "from collections import Counter\n",
    "import json\n",
    "import requests"
   ]
  },
  {
   "cell_type": "code",
   "execution_count": null,
   "id": "187be695-47fd-4188-8c2d-25962e8cbf0d",
   "metadata": {},
   "outputs": [],
   "source": []
  },
  {
   "cell_type": "code",
   "execution_count": 44,
   "id": "0828b393-d2f9-4860-9696-aa4bf26c1ac7",
   "metadata": {},
   "outputs": [],
   "source": [
    "req_list = [\n",
    "    'Total population',\n",
    "    'Median age (years)',\n",
    "    'Average  household size',\n",
    " 'Average family size',\n",
    "    'Population 25 years and over',\n",
    " 'Less than high school graduate',\n",
    " 'High school graduate (includes equivalency)',\n",
    " \"Some college or associate's degree\",\n",
    " \"Bachelor's degree\",\n",
    " 'Graduate or professional degree',\n",
    "     'Median Household income (dollars)',\n",
    " 'Owner-occupied housing units',\n",
    " 'Renter-occupied housing units',\n",
    "]"
   ]
  },
  {
   "cell_type": "code",
   "execution_count": 59,
   "id": "426391f8-d3c8-446c-8293-0aa99d657274",
   "metadata": {},
   "outputs": [
    {
     "data": {
      "text/plain": [
       "13"
      ]
     },
     "execution_count": 59,
     "metadata": {},
     "output_type": "execute_result"
    }
   ],
   "source": [
    "len(req_list)"
   ]
  },
  {
   "cell_type": "code",
   "execution_count": 45,
   "id": "d871f804-83fc-405b-9f3c-e3dd4bb087ab",
   "metadata": {},
   "outputs": [],
   "source": [
    "def clean(x):\n",
    "    try:\n",
    "        x = str(x)\n",
    "        x = x.replace(',','').replace('%','')\n",
    "        x = float(x)\n",
    "        return x\n",
    "    except:\n",
    "        return x\n",
    "def extract_data(file):\n",
    "    df  = pd.read_csv(file)\n",
    "    df = df[[i for i in df.columns if  'Total!!Estimate' in i or 'Label' in i]]\n",
    "    df = df.T\n",
    "    df.columns = df[:1].values[0]\n",
    "    df  = df[1:]\n",
    "    df.columns = [i.replace('\\xa0','') for i in df.columns]\n",
    "    burden = df.iloc[:,-7:]\n",
    "    burden.columns = ['SELECTED MONTHLY OWNER COSTS AS A PERCENTAGE OF HOUSEHOLD INCOME IN THE PAST 12 MONTHS',\n",
    "                      'less_than_30%_Owner','over_30%_Owner','Renter-occupied housing units',\n",
    "                      'GROSS RENT AS A PERCENTAGE OF HOUSEHOLD INCOME IN THE PAST 12 MONTHS',\n",
    "                      'less_than_30%_renter',\n",
    "                      'over_30%_renter']\n",
    "    burden = burden[[ 'less_than_30%_Owner','over_30%_Owner','less_than_30%_renter',\n",
    "                      'over_30%_renter']]\n",
    "    final = df[req_list]\n",
    "    final = pd.concat([final,burden],axis=1)\n",
    "    for cols in final.columns:\n",
    "        final[cols] = final[cols].map(lambda x: clean(x))\n",
    "    return final\n",
    "    \n",
    "    "
   ]
  },
  {
   "cell_type": "code",
   "execution_count": 46,
   "id": "5441a08a-20a7-4d6c-8674-6effeec1f31b",
   "metadata": {},
   "outputs": [],
   "source": [
    "files = os.listdir('./housing-data')\n",
    "files = ['./housing-data/'+ file for file in files if '.csv' in file]"
   ]
  },
  {
   "cell_type": "code",
   "execution_count": 47,
   "id": "7633c877-99e9-4dec-bdf3-fb96e332a737",
   "metadata": {},
   "outputs": [
    {
     "data": {
      "text/plain": [
       "['./housing-data/ACSST1Y2019.S0501-2024-11-10T171737.csv',\n",
       " './housing-data/ACSST1Y2022.S0501-2024-11-10T173552.csv',\n",
       " './housing-data/ACSST5Y2020.S0501-2024-11-10T171707.csv',\n",
       " './housing-data/ACSST1Y2021.S0501-2024-11-10T171641.csv',\n",
       " './housing-data/ACSST1Y2023.S0501-2024-11-10T171602.csv']"
      ]
     },
     "execution_count": 47,
     "metadata": {},
     "output_type": "execute_result"
    }
   ],
   "source": [
    "files"
   ]
  },
  {
   "cell_type": "code",
   "execution_count": 48,
   "id": "d8bd91ef-cbf5-4b13-b6b1-e474fcfe383d",
   "metadata": {},
   "outputs": [
    {
     "name": "stderr",
     "output_type": "stream",
     "text": [
      "100%|██████████████████████████████████████████████████████████████████████████████████████████████████████████████████████████████████| 5/5 [00:00<00:00, 55.71it/s]\n"
     ]
    }
   ],
   "source": [
    "from tqdm import tqdm\n",
    "data = pd.DataFrame()\n",
    "for file in tqdm(files):\n",
    "    d = extract_data(file)\n",
    "    year = file.split('.')[1][-4:]\n",
    "    d['year'] = year\n",
    "    data = pd.concat([data,d],axis=0)\n",
    "    \n",
    "    "
   ]
  },
  {
   "cell_type": "code",
   "execution_count": 49,
   "id": "e0f79fd8-6a88-402e-8499-910685de32a5",
   "metadata": {},
   "outputs": [],
   "source": [
    "data = data.reset_index()\n",
    "data = data.rename(columns={'index':'Metro'})"
   ]
  },
  {
   "cell_type": "code",
   "execution_count": 50,
   "id": "00b9465f-31cf-4bdf-9b43-fd711a19cc5c",
   "metadata": {},
   "outputs": [],
   "source": [
    "\n",
    "data['Metro'] = data.Metro.map(lambda metro: metro.split(',')[0])\n"
   ]
  },
  {
   "cell_type": "code",
   "execution_count": 51,
   "id": "5e3e2998-7fbe-40e6-98a2-a51f45fbf049",
   "metadata": {},
   "outputs": [],
   "source": [
    "metro_mapper = {\n",
    "    'Miami-Fort Lauderdale-West Palm Beach':'Miami-Fort Lauderdale-Pompano Beach',\n",
    "    'Houston-Pasadena-The Woodlands':'Houston-The Woodlands-Sugar Land',\n",
    "    'Denver-Aurora-Centennial':'Denver-Aurora-Lakewood',\n",
    "    'Austin-Round Rock-San Marcos':'Austin-Round Rock-Georgetown',\n",
    "    'Atlanta-Sandy Springs-Roswell':'Atlanta-Sandy Springs-Alpharetta'}\n"
   ]
  },
  {
   "cell_type": "code",
   "execution_count": 52,
   "id": "460d60d2-b835-4a56-9d1b-a885400dacff",
   "metadata": {},
   "outputs": [],
   "source": [
    "data['Metro'] = data.Metro.map(lambda x: metro_mapper[x] if metro_mapper.get(x) is not None else x)"
   ]
  },
  {
   "cell_type": "code",
   "execution_count": 53,
   "id": "d2aa8178-85df-4371-ad6f-6bff0d24230c",
   "metadata": {},
   "outputs": [],
   "source": [
    "data.to_csv('HousingData.csv',index=False)"
   ]
  },
  {
   "cell_type": "code",
   "execution_count": 70,
   "id": "b0e44433-7bc8-44d3-9374-dcc778580130",
   "metadata": {},
   "outputs": [],
   "source": [
    "df = pd.read_csv('HousingData.csv')\n",
    "df = df.drop(['Owner-occupied housing units.1','Renter-occupied housing units.1'],axis=1)\n",
    "\n"
   ]
  },
  {
   "cell_type": "code",
   "execution_count": 73,
   "id": "ab659538-7c02-4c6a-8e2b-6992358016bc",
   "metadata": {},
   "outputs": [],
   "source": [
    "metros = pd.DataFrame(df.Metro.unique()).reset_index()\n",
    "metros.columns = ['geoID','Metro']\n",
    "metros['geoID'] += 1"
   ]
  },
  {
   "cell_type": "code",
   "execution_count": 74,
   "id": "5702d1fb-b3e5-442d-9e1a-3e413a705c88",
   "metadata": {},
   "outputs": [],
   "source": [
    "df = pd.merge(metros,df)"
   ]
  },
  {
   "cell_type": "code",
   "execution_count": 76,
   "id": "58af56bb-5dab-4927-8165-8f302a0251eb",
   "metadata": {},
   "outputs": [],
   "source": [
    "df.to_csv('HousingData.csv',index=False)\n",
    "metros.to_csv('Metros.csv',index=False)"
   ]
  },
  {
   "cell_type": "code",
   "execution_count": null,
   "id": "399390c7-0c0d-4ce5-a905-9121beae48b7",
   "metadata": {},
   "outputs": [],
   "source": []
  }
 ],
 "metadata": {
  "kernelspec": {
   "display_name": "Python 3 (ipykernel)",
   "language": "python",
   "name": "python3"
  },
  "language_info": {
   "codemirror_mode": {
    "name": "ipython",
    "version": 3
   },
   "file_extension": ".py",
   "mimetype": "text/x-python",
   "name": "python",
   "nbconvert_exporter": "python",
   "pygments_lexer": "ipython3",
   "version": "3.12.6"
  }
 },
 "nbformat": 4,
 "nbformat_minor": 5
}
