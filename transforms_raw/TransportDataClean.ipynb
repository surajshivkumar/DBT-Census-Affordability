{
 "cells": [
  {
   "cell_type": "code",
   "execution_count": 2,
   "id": "1c86ee92-fabd-4c8c-8d5c-215933320f1a",
   "metadata": {},
   "outputs": [],
   "source": [
    "import pandas as pd\n",
    "import os\n",
    "import matplotlib.pyplot as plt\n",
    "import seaborn as sns\n",
    "from collections import Counter\n",
    "import json\n",
    "import requests"
   ]
  },
  {
   "cell_type": "code",
   "execution_count": null,
   "id": "187be695-47fd-4188-8c2d-25962e8cbf0d",
   "metadata": {},
   "outputs": [],
   "source": []
  },
  {
   "cell_type": "code",
   "execution_count": 3,
   "id": "0828b393-d2f9-4860-9696-aa4bf26c1ac7",
   "metadata": {},
   "outputs": [],
   "source": [
    "req_list = [\n",
    "    'Mean travel time to work (minutes)',\n",
    "    'Median earnings (dollars)',\n",
    "    \n",
    "]"
   ]
  },
  {
   "cell_type": "code",
   "execution_count": 4,
   "id": "d871f804-83fc-405b-9f3c-e3dd4bb087ab",
   "metadata": {},
   "outputs": [],
   "source": [
    "def clean(x):\n",
    "    try:\n",
    "        x = str(x)\n",
    "        x = x.replace(',','').replace('%','')\n",
    "        x = float(x)\n",
    "        return x\n",
    "    except:\n",
    "        return x\n",
    "def extract_data(file):\n",
    "    df  = pd.read_csv(file)\n",
    "    df = df[[i for i in df.columns if  'Total!!Estimate' in i or 'Label' in i]]\n",
    "    df = df.T\n",
    "    df.columns = df[:1].values[0]\n",
    "    df  = df[1:]\n",
    "    df.columns = [i.replace('\\xa0','') for i in df.columns]\n",
    "    final = df[req_list]\n",
    "    for cols in final.columns:\n",
    "        final[cols] = final[cols].map(lambda x: clean(x))\n",
    "    return final\n",
    "    \n",
    "    "
   ]
  },
  {
   "cell_type": "code",
   "execution_count": 7,
   "id": "5441a08a-20a7-4d6c-8674-6effeec1f31b",
   "metadata": {},
   "outputs": [],
   "source": [
    "files = os.listdir('./transport-data')\n",
    "files = ['./transport-data/'+ file for file in files if '.csv' in file]"
   ]
  },
  {
   "cell_type": "code",
   "execution_count": 8,
   "id": "d8bd91ef-cbf5-4b13-b6b1-e474fcfe383d",
   "metadata": {},
   "outputs": [
    {
     "name": "stderr",
     "output_type": "stream",
     "text": [
      "  0%|                                                                                                                                          | 0/5 [00:00<?, ?it/s]/var/folders/3m/q31sgtj91_n394m9656x0bwh0000gp/T/ipykernel_63897/473586990.py:18: SettingWithCopyWarning: \n",
      "A value is trying to be set on a copy of a slice from a DataFrame.\n",
      "Try using .loc[row_indexer,col_indexer] = value instead\n",
      "\n",
      "See the caveats in the documentation: https://pandas.pydata.org/pandas-docs/stable/user_guide/indexing.html#returning-a-view-versus-a-copy\n",
      "  final[cols] = final[cols].map(lambda x: clean(x))\n",
      "/var/folders/3m/q31sgtj91_n394m9656x0bwh0000gp/T/ipykernel_63897/473586990.py:18: SettingWithCopyWarning: \n",
      "A value is trying to be set on a copy of a slice from a DataFrame.\n",
      "Try using .loc[row_indexer,col_indexer] = value instead\n",
      "\n",
      "See the caveats in the documentation: https://pandas.pydata.org/pandas-docs/stable/user_guide/indexing.html#returning-a-view-versus-a-copy\n",
      "  final[cols] = final[cols].map(lambda x: clean(x))\n",
      "/var/folders/3m/q31sgtj91_n394m9656x0bwh0000gp/T/ipykernel_63897/473586990.py:18: SettingWithCopyWarning: \n",
      "A value is trying to be set on a copy of a slice from a DataFrame.\n",
      "Try using .loc[row_indexer,col_indexer] = value instead\n",
      "\n",
      "See the caveats in the documentation: https://pandas.pydata.org/pandas-docs/stable/user_guide/indexing.html#returning-a-view-versus-a-copy\n",
      "  final[cols] = final[cols].map(lambda x: clean(x))\n",
      "/var/folders/3m/q31sgtj91_n394m9656x0bwh0000gp/T/ipykernel_63897/473586990.py:18: SettingWithCopyWarning: \n",
      "A value is trying to be set on a copy of a slice from a DataFrame.\n",
      "Try using .loc[row_indexer,col_indexer] = value instead\n",
      "\n",
      "See the caveats in the documentation: https://pandas.pydata.org/pandas-docs/stable/user_guide/indexing.html#returning-a-view-versus-a-copy\n",
      "  final[cols] = final[cols].map(lambda x: clean(x))\n",
      "/var/folders/3m/q31sgtj91_n394m9656x0bwh0000gp/T/ipykernel_63897/473586990.py:18: SettingWithCopyWarning: \n",
      "A value is trying to be set on a copy of a slice from a DataFrame.\n",
      "Try using .loc[row_indexer,col_indexer] = value instead\n",
      "\n",
      "See the caveats in the documentation: https://pandas.pydata.org/pandas-docs/stable/user_guide/indexing.html#returning-a-view-versus-a-copy\n",
      "  final[cols] = final[cols].map(lambda x: clean(x))\n",
      "100%|█████████████████████████████████████████████████████████████████████████████████████████████████████████████████████████████████| 5/5 [00:00<00:00, 110.44it/s]\n"
     ]
    }
   ],
   "source": [
    "from tqdm import tqdm\n",
    "data = pd.DataFrame()\n",
    "for file in tqdm(files):\n",
    "    d = extract_data(file)\n",
    "    year = file.split('.')[1][-4:]\n",
    "    d['year'] = year\n",
    "    data = pd.concat([data,d],axis=0)\n",
    "    \n",
    "    "
   ]
  },
  {
   "cell_type": "code",
   "execution_count": 9,
   "id": "e0f79fd8-6a88-402e-8499-910685de32a5",
   "metadata": {},
   "outputs": [],
   "source": [
    "data = data.reset_index()\n",
    "data = data.rename(columns={'index':'Metro'})"
   ]
  },
  {
   "cell_type": "code",
   "execution_count": 10,
   "id": "00b9465f-31cf-4bdf-9b43-fd711a19cc5c",
   "metadata": {},
   "outputs": [],
   "source": [
    "\n",
    "data['Metro']  = data.Metro.map(lambda metro: metro.split(',')[0])\n"
   ]
  },
  {
   "cell_type": "code",
   "execution_count": 11,
   "id": "6f3c8b46-6794-48ba-82b6-cb5502cbc783",
   "metadata": {},
   "outputs": [],
   "source": [
    "metro_mapper = {\n",
    "    'Miami-Fort Lauderdale-West Palm Beach':'Miami-Fort Lauderdale-Pompano Beach',\n",
    "    'Houston-Pasadena-The Woodlands':'Houston-The Woodlands-Sugar Land',\n",
    "    'Denver-Aurora-Centennial':'Denver-Aurora-Lakewood',\n",
    "    'Austin-Round Rock-San Marcos':'Austin-Round Rock-Georgetown',\n",
    "    'Atlanta-Sandy Springs-Roswell':'Atlanta-Sandy Springs-Alpharetta'}\n"
   ]
  },
  {
   "cell_type": "code",
   "execution_count": 12,
   "id": "f8776fdf-486c-4864-b3b5-9ec7d7038128",
   "metadata": {},
   "outputs": [],
   "source": [
    "data['Metro'] = data.Metro.map(lambda x: metro_mapper[x] if metro_mapper.get(x) is not None else x)"
   ]
  },
  {
   "cell_type": "code",
   "execution_count": 17,
   "id": "f309445f-02c5-49ef-b426-2e93eefe5275",
   "metadata": {},
   "outputs": [
    {
     "data": {
      "text/html": [
       "<div>\n",
       "<style scoped>\n",
       "    .dataframe tbody tr th:only-of-type {\n",
       "        vertical-align: middle;\n",
       "    }\n",
       "\n",
       "    .dataframe tbody tr th {\n",
       "        vertical-align: top;\n",
       "    }\n",
       "\n",
       "    .dataframe thead th {\n",
       "        text-align: right;\n",
       "    }\n",
       "</style>\n",
       "<table border=\"1\" class=\"dataframe\">\n",
       "  <thead>\n",
       "    <tr style=\"text-align: right;\">\n",
       "      <th></th>\n",
       "      <th>geoID</th>\n",
       "      <th>Metro</th>\n",
       "      <th>Mean travel time to work (minutes)</th>\n",
       "      <th>Median earnings (dollars)</th>\n",
       "      <th>year</th>\n",
       "    </tr>\n",
       "  </thead>\n",
       "  <tbody>\n",
       "    <tr>\n",
       "      <th>0</th>\n",
       "      <td>1</td>\n",
       "      <td>Atlanta-Sandy Springs-Alpharetta</td>\n",
       "      <td>30.9</td>\n",
       "      <td>50193.0</td>\n",
       "      <td>2022</td>\n",
       "    </tr>\n",
       "    <tr>\n",
       "      <th>1</th>\n",
       "      <td>1</td>\n",
       "      <td>Atlanta-Sandy Springs-Alpharetta</td>\n",
       "      <td>31.6</td>\n",
       "      <td>50722.0</td>\n",
       "      <td>2023</td>\n",
       "    </tr>\n",
       "    <tr>\n",
       "      <th>2</th>\n",
       "      <td>1</td>\n",
       "      <td>Atlanta-Sandy Springs-Alpharetta</td>\n",
       "      <td>29.6</td>\n",
       "      <td>45903.0</td>\n",
       "      <td>2021</td>\n",
       "    </tr>\n",
       "    <tr>\n",
       "      <th>3</th>\n",
       "      <td>1</td>\n",
       "      <td>Atlanta-Sandy Springs-Alpharetta</td>\n",
       "      <td>32.5</td>\n",
       "      <td>41482.0</td>\n",
       "      <td>2019</td>\n",
       "    </tr>\n",
       "    <tr>\n",
       "      <th>4</th>\n",
       "      <td>1</td>\n",
       "      <td>Atlanta-Sandy Springs-Alpharetta</td>\n",
       "      <td>32.1</td>\n",
       "      <td>41916.0</td>\n",
       "      <td>2020</td>\n",
       "    </tr>\n",
       "    <tr>\n",
       "      <th>...</th>\n",
       "      <td>...</td>\n",
       "      <td>...</td>\n",
       "      <td>...</td>\n",
       "      <td>...</td>\n",
       "      <td>...</td>\n",
       "    </tr>\n",
       "    <tr>\n",
       "      <th>90</th>\n",
       "      <td>19</td>\n",
       "      <td>Tampa-St. Petersburg-Clearwater</td>\n",
       "      <td>28.5</td>\n",
       "      <td>44126.0</td>\n",
       "      <td>2022</td>\n",
       "    </tr>\n",
       "    <tr>\n",
       "      <th>91</th>\n",
       "      <td>19</td>\n",
       "      <td>Tampa-St. Petersburg-Clearwater</td>\n",
       "      <td>29.4</td>\n",
       "      <td>46426.0</td>\n",
       "      <td>2023</td>\n",
       "    </tr>\n",
       "    <tr>\n",
       "      <th>92</th>\n",
       "      <td>19</td>\n",
       "      <td>Tampa-St. Petersburg-Clearwater</td>\n",
       "      <td>26.7</td>\n",
       "      <td>41516.0</td>\n",
       "      <td>2021</td>\n",
       "    </tr>\n",
       "    <tr>\n",
       "      <th>93</th>\n",
       "      <td>19</td>\n",
       "      <td>Tampa-St. Petersburg-Clearwater</td>\n",
       "      <td>28.3</td>\n",
       "      <td>36725.0</td>\n",
       "      <td>2019</td>\n",
       "    </tr>\n",
       "    <tr>\n",
       "      <th>94</th>\n",
       "      <td>19</td>\n",
       "      <td>Tampa-St. Petersburg-Clearwater</td>\n",
       "      <td>27.8</td>\n",
       "      <td>37231.0</td>\n",
       "      <td>2020</td>\n",
       "    </tr>\n",
       "  </tbody>\n",
       "</table>\n",
       "<p>95 rows × 5 columns</p>\n",
       "</div>"
      ],
      "text/plain": [
       "    geoID                             Metro  \\\n",
       "0       1  Atlanta-Sandy Springs-Alpharetta   \n",
       "1       1  Atlanta-Sandy Springs-Alpharetta   \n",
       "2       1  Atlanta-Sandy Springs-Alpharetta   \n",
       "3       1  Atlanta-Sandy Springs-Alpharetta   \n",
       "4       1  Atlanta-Sandy Springs-Alpharetta   \n",
       "..    ...                               ...   \n",
       "90     19   Tampa-St. Petersburg-Clearwater   \n",
       "91     19   Tampa-St. Petersburg-Clearwater   \n",
       "92     19   Tampa-St. Petersburg-Clearwater   \n",
       "93     19   Tampa-St. Petersburg-Clearwater   \n",
       "94     19   Tampa-St. Petersburg-Clearwater   \n",
       "\n",
       "    Mean travel time to work (minutes)  Median earnings (dollars)  year  \n",
       "0                                 30.9                    50193.0  2022  \n",
       "1                                 31.6                    50722.0  2023  \n",
       "2                                 29.6                    45903.0  2021  \n",
       "3                                 32.5                    41482.0  2019  \n",
       "4                                 32.1                    41916.0  2020  \n",
       "..                                 ...                        ...   ...  \n",
       "90                                28.5                    44126.0  2022  \n",
       "91                                29.4                    46426.0  2023  \n",
       "92                                26.7                    41516.0  2021  \n",
       "93                                28.3                    36725.0  2019  \n",
       "94                                27.8                    37231.0  2020  \n",
       "\n",
       "[95 rows x 5 columns]"
      ]
     },
     "execution_count": 17,
     "metadata": {},
     "output_type": "execute_result"
    }
   ],
   "source": [
    "metros = pd.read_csv('Metros.csv')\n",
    "data = pd.merge(metros, data)\n",
    "data"
   ]
  },
  {
   "cell_type": "code",
   "execution_count": 18,
   "id": "d87a3cc1-1748-4e38-b9ca-2688df5bb60e",
   "metadata": {},
   "outputs": [],
   "source": [
    "data.to_csv('transportData.csv',index=False)"
   ]
  },
  {
   "cell_type": "code",
   "execution_count": 15,
   "id": "9db2932f-1285-4ba2-a63c-9c4be4612b56",
   "metadata": {},
   "outputs": [
    {
     "data": {
      "text/plain": [
       "['./transport-data/ACSST1Y2022.S0802-2024-11-10T171845.csv',\n",
       " './transport-data/ACSST1Y2023.S0802-2024-11-10T171825.csv',\n",
       " './transport-data/ACSST1Y2021.S0802-2024-11-10T171859.csv',\n",
       " './transport-data/ACSST1Y2019.S0802-2024-11-10T171926.csv',\n",
       " './transport-data/ACSST5Y2020.S0802-2024-11-10T171913.csv']"
      ]
     },
     "execution_count": 15,
     "metadata": {},
     "output_type": "execute_result"
    }
   ],
   "source": [
    "files"
   ]
  },
  {
   "cell_type": "code",
   "execution_count": null,
   "id": "b74ddf11-a42f-4e4f-831e-dc207d6a322a",
   "metadata": {},
   "outputs": [],
   "source": []
  }
 ],
 "metadata": {
  "kernelspec": {
   "display_name": "Python 3 (ipykernel)",
   "language": "python",
   "name": "python3"
  },
  "language_info": {
   "codemirror_mode": {
    "name": "ipython",
    "version": 3
   },
   "file_extension": ".py",
   "mimetype": "text/x-python",
   "name": "python",
   "nbconvert_exporter": "python",
   "pygments_lexer": "ipython3",
   "version": "3.12.6"
  }
 },
 "nbformat": 4,
 "nbformat_minor": 5
}
